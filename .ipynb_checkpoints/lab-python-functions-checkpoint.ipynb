{
 "cells": [
  {
   "cell_type": "markdown",
   "id": "25d7736c-ba17-4aff-b6bb-66eba20fbf4e",
   "metadata": {},
   "source": [
    "# Lab | Functions"
   ]
  },
  {
   "cell_type": "markdown",
   "id": "aa21ea8f-593c-4c11-a5a3-b2aefee5855c",
   "metadata": {
    "tags": []
   },
   "source": [
    "## Exercise: Managing Customer Orders with Functions\n",
    "\n",
    "In the previous exercise, you improved the code for managing customer orders by using loops and flow control. Now, let's take it a step further and refactor the code by introducing functions.\n",
    "\n",
    "Follow the steps below to complete the exercise:\n",
    "\n",
    "1. Define a function named `initialize_inventory` that takes `products` as a parameter. Inside the function, implement the code for initializing the inventory dictionary using a loop and user input.\n",
    "\n",
    "2. Define a function named `get_customer_orders` that takes no parameters. Inside the function, implement the code for prompting the user to enter the product names using a loop. The function should return the `customer_orders` set.\n",
    "\n",
    "3. Define a function named `update_inventory` that takes `customer_orders` and `inventory` as parameters. Inside the function, implement the code for updating the inventory dictionary based on the customer orders.\n",
    "\n",
    "4. Define a function named `calculate_order_statistics` that takes `customer_orders` and `products` as parameters. Inside the function, implement the code for calculating the order statistics (total products ordered, and percentage of unique products ordered). The function should return these values.\n",
    "\n",
    "5. Define a function named `print_order_statistics` that takes `order_statistics` as a parameter. Inside the function, implement the code for printing the order statistics.\n",
    "\n",
    "6. Define a function named `print_updated_inventory` that takes `inventory` as a parameter. Inside the function, implement the code for printing the updated inventory.\n",
    "\n",
    "7. Call the functions in the appropriate sequence to execute the program and manage customer orders.\n",
    "\n",
    "Hints for functions:\n",
    "\n",
    "- Consider the input parameters required for each function and their return values.\n",
    "- Utilize function parameters and return values to transfer data between functions.\n",
    "- Test your functions individually to ensure they work correctly.\n",
    "\n",
    "\n"
   ]
  },
  {
   "cell_type": "code",
   "execution_count": 19,
   "id": "a218bcb3-561c-4531-b0d6-21fec0173401",
   "metadata": {},
   "outputs": [
    {
     "name": "stdin",
     "output_type": "stream",
     "text": [
      "Please enter the quantity of t-shirt: 5\n",
      "Please enter the quantity of mug: 5\n",
      "Please enter the quantity of hat: 5\n",
      "Please enter the quantity of book: 5\n",
      "Please enter the quantity of keychain: 5\n",
      "Please enter your order:  mug\n",
      "Do you want to add another product? (yes/no):  no\n"
     ]
    },
    {
     "name": "stdout",
     "output_type": "stream",
     "text": [
      "Order Statistics:\n",
      "Total Products Ordered: 1\n",
      "Percentage of Products Ordered: 4.0%\n",
      "t-shirt: 5\n",
      "mug: 4\n",
      "hat: 5\n",
      "book: 5\n",
      "keychain: 5\n"
     ]
    }
   ],
   "source": [
    "def initialize_inventory(products):\n",
    "    \"\"\"\n",
    "    This function takes as input a list of products and creates an inventory dictionary, using the products in the list as key, and for the value \n",
    "    it ask the user for the quantity of each product.\n",
    "    It also creates a counter to sum all the products\n",
    "\n",
    "    This function returns two values, first the inventory dictionary and second the total product counter\n",
    "    \"\"\"\n",
    "\n",
    "    inventory = {}\n",
    "    total_products = 0\n",
    "\n",
    "    for product in products:\n",
    "        inventory[product] = int(input(f\"Please enter the quantity of {product}:\"))\n",
    "        total_products += inventory[product]\n",
    "    \n",
    "    return inventory, total_products\n",
    "\n",
    "def get_customer_orders(products):\n",
    "\n",
    "    customer_orders = set()\n",
    "    \n",
    "    while True:\n",
    "        item = input(\"Please enter your order: \").lower()\n",
    "        if item not in products:\n",
    "            print(\"Item not recognized\")\n",
    "        else:\n",
    "            customer_orders.add(item)\n",
    "        another_product = None\n",
    "        while another_product not in [\"yes\", \"no\"]:\n",
    "            another_product = input(\"Do you want to add another product? (yes/no): \").lower()\n",
    "        if another_product == \"no\":\n",
    "            break\n",
    "    return customer_orders\n",
    "\n",
    "def update_inventory(customer_orders, inventory):\n",
    "\n",
    "    for product in customer_orders:\n",
    "        inventory[product] -= 1\n",
    "    \n",
    "def calculate_order_statistics(customer_orders, total_products):\n",
    "\n",
    "    #products_ordered = len(customer_orders)\n",
    "    #percentage = (products_ordered / total_products) * 100\n",
    "    return (len(customer_orders), (len(customer_orders)/total_products)*100)\n",
    "\n",
    "def print_order_statistics(order_statistics):\n",
    "\n",
    "    print(f\"Order Statistics:\\nTotal Products Ordered: {order_statistics[0]}\\nPercentage of Products Ordered: {order_statistics[1]}%\")\n",
    "\n",
    "def print_updated_inventory(inventory):\n",
    "\n",
    "    for [key, value] in inventory.items():\n",
    "        print(f\"{key}: {value}\")\n",
    "\n",
    "\n",
    "products = [\"t-shirt\", \"mug\", \"hat\", \"book\", \"keychain\"]\n",
    "\n",
    "inventory , total_products = initialize_inventory(products)\n",
    "\n",
    "customer_orders = get_customer_orders(products)\n",
    "\n",
    "order_status = calculate_order_statistics(customer_orders, total_products)\n",
    "\n",
    "print_order_statistics(order_status)\n",
    "\n",
    "update_inventory(customer_orders, inventory)\n",
    "\n",
    "print_updated_inventory(inventory)"
   ]
  },
  {
   "cell_type": "code",
   "execution_count": null,
   "id": "220fb76f-0f6d-483a-a9a1-df54fe9a2a0d",
   "metadata": {},
   "outputs": [],
   "source": []
  }
 ],
 "metadata": {
  "kernelspec": {
   "display_name": "Python 3 (ipykernel)",
   "language": "python",
   "name": "python3"
  },
  "language_info": {
   "codemirror_mode": {
    "name": "ipython",
    "version": 3
   },
   "file_extension": ".py",
   "mimetype": "text/x-python",
   "name": "python",
   "nbconvert_exporter": "python",
   "pygments_lexer": "ipython3",
   "version": "3.12.4"
  }
 },
 "nbformat": 4,
 "nbformat_minor": 5
}
